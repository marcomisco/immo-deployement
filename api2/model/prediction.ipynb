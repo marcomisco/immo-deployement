{
 "cells": [
  {
   "cell_type": "code",
   "execution_count": 1,
   "metadata": {},
   "outputs": [],
   "source": [
    "import pickle\n",
    "\n",
    "# Open the file containing the pickled model\n",
    "with open('model.pkl', 'rb') as file:\n",
    "    # Load the model from the file\n",
    "     pickle_model = pickle.load(file)\n",
    "\n",
    "# The model is now ready to use\n",
    "#example of using\n",
    "# Ypredict = pickle_model.predict(t1)"
   ]
  },
  {
   "cell_type": "code",
   "execution_count": 10,
   "metadata": {},
   "outputs": [
    {
     "name": "stdout",
     "output_type": "stream",
     "text": [
      "predict df: df\n",
      "Predicted price: <bound method ForestRegressor.predict of RandomForestRegressor()>\n"
     ]
    },
    {
     "data": {
      "text/plain": [
       "<bound method ForestRegressor.predict of RandomForestRegressor()>"
      ]
     },
     "execution_count": 10,
     "metadata": {},
     "output_type": "execute_result"
    }
   ],
   "source": [
    "import pickle\n",
    "import pandas as pd\n",
    "def prediction(df):\n",
    "    print(\"predict df:\", df)\n",
    "    \n",
    "    pred = pickle_model.predict\n",
    "    print('Predicted price:', pred)\n",
    "   \n",
    "    \n",
    "    return pred\n",
    "\n",
    "prediction('df')"
   ]
  }
 ],
 "metadata": {
  "kernelspec": {
   "display_name": "Python 3",
   "language": "python",
   "name": "python3"
  },
  "language_info": {
   "codemirror_mode": {
    "name": "ipython",
    "version": 3
   },
   "file_extension": ".py",
   "mimetype": "text/x-python",
   "name": "python",
   "nbconvert_exporter": "python",
   "pygments_lexer": "ipython3",
   "version": "3.11.3"
  },
  "orig_nbformat": 4
 },
 "nbformat": 4,
 "nbformat_minor": 2
}
